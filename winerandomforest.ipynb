{
 "cells": [
  {
   "cell_type": "code",
   "execution_count": 215,
   "id": "7f9809ed-9920-4065-b6be-27bcecdabc3c",
   "metadata": {},
   "outputs": [],
   "source": [
    "import numpy as np\n",
    "import pandas as pd\n",
    "from sklearn.tree import *\n",
    "from sklearn.model_selection import train_test_split\n",
    "from sklearn.ensemble import RandomForestClassifier\n",
    "from sklearn.metrics import confusion_matrix, accuracy_score, classification_report\n",
    "import matplotlib.pyplot as plt"
   ]
  },
  {
   "cell_type": "code",
   "execution_count": 216,
   "id": "1a3caccc-0e18-446d-aa26-b2de78997511",
   "metadata": {},
   "outputs": [],
   "source": [
    "def import_data():\n",
    "    wine_data = pd.read_csv('winequality-red.csv', sep=';', header=0)\n",
    "    print('Dataset Length:', len(wine_data))\n",
    "    print('Dataset Shape:', wine_data.shape)\n",
    "    print('Dataset:', wine_data.head())\n",
    "\n",
    "    return wine_data"
   ]
  },
  {
   "cell_type": "code",
   "execution_count": 217,
   "id": "5280e82c-4f3c-499e-99c2-50d32d8e20f4",
   "metadata": {},
   "outputs": [],
   "source": [
    "def split_dataset(wine_data):\n",
    "    x = wine_data.values[:, :-1]\n",
    "    y = wine_data.values[:, -1]\n",
    "\n",
    "    x_train, x_test, y_train, y_test = train_test_split(x, y, test_size=0.3, random_state=100)\n",
    "\n",
    "    return x, y, x_train, x_test, y_train, y_test"
   ]
  },
  {
   "cell_type": "code",
   "execution_count": 218,
   "id": "f5a8c0f0-01f3-4e6d-b3fc-a1ecfcd13025",
   "metadata": {},
   "outputs": [],
   "source": [
    "def train_using_random_forest(x_train, y_train):\n",
    "    #Create a random forest classifier\n",
    "    clf_rf = RandomForestClassifier(n_estimators=100, random_state=100, max_depth=3, min_samples_leaf=5)\n",
    "\n",
    "    #Train the model\n",
    "    clf_rf.fit(x_train, y_train)\n",
    "\n",
    "    return clf_rf"
   ]
  },
  {
   "cell_type": "code",
   "execution_count": 219,
   "id": "4f1a419c-5011-4fc8-bd5d-0fb98b2f46cc",
   "metadata": {},
   "outputs": [],
   "source": [
    "def prediction(x_test, clf_object):\n",
    "    y_pred = clf_object.predict(x_test)\n",
    "    print('Predicted Values:')\n",
    "    print(y_pred)\n",
    "\n",
    "    return y_pred"
   ]
  },
  {
   "cell_type": "code",
   "execution_count": 220,
   "id": "c76a42b5-9f3c-46c3-9248-36c86d898557",
   "metadata": {},
   "outputs": [],
   "source": [
    "def calculate_accuracy(y_test, y_pred):\n",
    "    print('Confusion Matrix:', confusion_matrix(y_test, y_pred))\n",
    "    print('Accuracy:', accuracy_score(y_test, y_pred) * 100)\n",
    "    print('Report', classification_report(y_test, y_pred, zero_division=0))"
   ]
  },
  {
   "cell_type": "code",
   "execution_count": 221,
   "id": "8618de43-3362-4442-b8ea-f2620c3eed09",
   "metadata": {},
   "outputs": [],
   "source": [
    "def plot_random_forest_tree(clf_rf, feature_names, class_names, tree_index=0):\n",
    "    plt.figure(figsize=(20, 10))\n",
    "    plot_tree(clf_rf.estimators_[tree_index], feature_names=feature_names,\n",
    "              class_names=class_names, filled=True, rounded=True)\n",
    "    plt.show()"
   ]
  },
  {
   "cell_type": "code",
   "execution_count": null,
   "id": "2f819930-d4c1-47ef-a07e-25bba420dce5",
   "metadata": {},
   "outputs": [],
   "source": [
    "if __name__ == \"__main__\":\n",
    "    data = import_data()\n",
    "    x, y, x_train, x_test, y_train, y_test = split_dataset(data)\n",
    "\n",
    "    #Train using Random Forest\n",
    "    clf_rf = train_using_random_forest(x_train, y_train)\n",
    "\n",
    "    #Predictions\n",
    "    print('Results using Random Forest:')\n",
    "    y_pred_rf = prediction(x_test, clf_rf)\n",
    "\n",
    "    calculate_accuracy(y_test, y_pred_rf)\n",
    "\n",
    "    feature_names = list(data.columns[:-1])\n",
    "    class_names = list(map(str, np.unique(y_train)))\n",
    "\n",
    "    plot_random_forest_tree(clf_rf, feature_names, class_names, tree_index=0)"
   ]
  }
 ],
 "metadata": {
  "kernelspec": {
   "display_name": "Python [conda env:base] *",
   "language": "python",
   "name": "conda-base-py"
  },
  "language_info": {
   "codemirror_mode": {
    "name": "ipython",
    "version": 3
   },
   "file_extension": ".py",
   "mimetype": "text/x-python",
   "name": "python",
   "nbconvert_exporter": "python",
   "pygments_lexer": "ipython3",
   "version": "3.12.7"
  },
  "widgets": {
   "application/vnd.jupyter.widget-state+json": {
    "state": {},
    "version_major": 2,
    "version_minor": 0
   }
  }
 },
 "nbformat": 4,
 "nbformat_minor": 5
}
